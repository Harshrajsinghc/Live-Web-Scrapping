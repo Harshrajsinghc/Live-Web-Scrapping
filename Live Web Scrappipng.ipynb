{
 "cells": [
  {
   "cell_type": "code",
   "execution_count": 61,
   "id": "ec23a1d6",
   "metadata": {},
   "outputs": [],
   "source": [
    "import pandas as pd\n",
    "import requests\n",
    "from bs4 import BeautifulSoup"
   ]
  },
  {
   "cell_type": "code",
   "execution_count": 62,
   "id": "4ac1efc1",
   "metadata": {},
   "outputs": [],
   "source": [
    "li=[]"
   ]
  },
  {
   "cell_type": "code",
   "execution_count": 63,
   "id": "1fc23331",
   "metadata": {},
   "outputs": [],
   "source": [
    "URL = 'Enter page url here'"
   ]
  },
  {
   "cell_type": "code",
   "execution_count": 64,
   "id": "a61cef26",
   "metadata": {},
   "outputs": [],
   "source": [
    "req =requests.get(URL)\n",
    "if req.status_code == 200:\n",
    "    soup = BeautifulSoup(req.content, 'html.parser')"
   ]
  },
  {
   "cell_type": "code",
   "execution_count": 65,
   "id": "67029ebe",
   "metadata": {},
   "outputs": [],
   "source": [
    "soup"
   ]
  },
  {
   "cell_type": "code",
   "execution_count": 6,
   "id": "db1b19c8",
   "metadata": {},
   "outputs": [],
   "source": [
    "link_tags = soup.find_all('a')"
   ]
  },
  {
   "cell_type": "code",
   "execution_count": 7,
   "id": "f8faa966",
   "metadata": {},
   "outputs": [],
   "source": [
    "links = [link.get('href') for link in link_tags]"
   ]
  },
  {
   "cell_type": "code",
   "execution_count": 66,
   "id": "50224368",
   "metadata": {},
   "outputs": [],
   "source": [
    "print(links)"
   ]
  },
  {
   "cell_type": "code",
   "execution_count": 67,
   "id": "b9a00c78",
   "metadata": {},
   "outputs": [],
   "source": [
    "print(len(links))"
   ]
  },
  {
   "cell_type": "code",
   "execution_count": 10,
   "id": "b9d5f2b7",
   "metadata": {},
   "outputs": [],
   "source": [
    "import re"
   ]
  },
  {
   "cell_type": "code",
   "execution_count": 11,
   "id": "67539bc5",
   "metadata": {},
   "outputs": [],
   "source": [
    "pattern = re.compile('Enter page pattern')"
   ]
  },
  {
   "cell_type": "code",
   "execution_count": 12,
   "id": "495a2f47",
   "metadata": {},
   "outputs": [],
   "source": [
    "matched_links = []\n",
    "for i in links:\n",
    "    if i is not None and re.search(pattern, i):\n",
    "        matched_links.append(i)"
   ]
  },
  {
   "cell_type": "code",
   "execution_count": 68,
   "id": "375044dc",
   "metadata": {},
   "outputs": [],
   "source": [
    "matched_links"
   ]
  },
  {
   "cell_type": "code",
   "execution_count": 14,
   "id": "9e7645df",
   "metadata": {},
   "outputs": [],
   "source": [
    "ndf = pd.DataFrame(matched_links)"
   ]
  },
  {
   "cell_type": "code",
   "execution_count": 15,
   "id": "c83e79fc",
   "metadata": {},
   "outputs": [],
   "source": [
    "ndf = ndf.rename(columns={0: 'URL'})"
   ]
  },
  {
   "cell_type": "code",
   "execution_count": 69,
   "id": "a101307c",
   "metadata": {},
   "outputs": [],
   "source": [
    "ndf"
   ]
  },
  {
   "cell_type": "code",
   "execution_count": 56,
   "id": "5ad07e07",
   "metadata": {},
   "outputs": [],
   "source": [
    "email = []\n",
    "date = []"
   ]
  },
  {
   "cell_type": "code",
   "execution_count": 57,
   "id": "fafdf094",
   "metadata": {},
   "outputs": [],
   "source": [
    "\n",
    "for i in ndf['URL']:\n",
    "    url= i\n",
    "    req =requests.get(url)\n",
    "    if req.status_code == 200:\n",
    "        soup = BeautifulSoup(req.content, 'html.parser')\n",
    "        input_tags = soup.find_all('input')\n",
    "        for tag in input_tags:\n",
    "            if tag.get('name') == 'Contact_email':\n",
    "                x = tag.get('value')\n",
    "                email.append(x)\n",
    "            elif tag.get('name') == 'Date':\n",
    "                y = tag.get('value')\n",
    "        date.append(y)"
   ]
  },
  {
   "cell_type": "code",
   "execution_count": 70,
   "id": "519a0d4f",
   "metadata": {},
   "outputs": [],
   "source": [
    "email"
   ]
  },
  {
   "cell_type": "code",
   "execution_count": 71,
   "id": "3386bc8b",
   "metadata": {},
   "outputs": [],
   "source": [
    "date"
   ]
  },
  {
   "cell_type": "code",
   "execution_count": 52,
   "id": "47047cb2",
   "metadata": {},
   "outputs": [],
   "source": [
    "ndf['Email']= email"
   ]
  },
  {
   "cell_type": "code",
   "execution_count": 72,
   "id": "ffac19fa",
   "metadata": {},
   "outputs": [],
   "source": [
    "len(date)"
   ]
  },
  {
   "cell_type": "code",
   "execution_count": 59,
   "id": "3a1cc80c",
   "metadata": {},
   "outputs": [],
   "source": [
    "ndf['Dates']= date"
   ]
  },
  {
   "cell_type": "code",
   "execution_count": 73,
   "id": "68645b8b",
   "metadata": {},
   "outputs": [],
   "source": [
    "ndf"
   ]
  },
  {
   "cell_type": "code",
   "execution_count": null,
   "id": "ce9596a6",
   "metadata": {},
   "outputs": [],
   "source": []
  }
 ],
 "metadata": {
  "kernelspec": {
   "display_name": "Python 3 (ipykernel)",
   "language": "python",
   "name": "python3"
  },
  "language_info": {
   "codemirror_mode": {
    "name": "ipython",
    "version": 3
   },
   "file_extension": ".py",
   "mimetype": "text/x-python",
   "name": "python",
   "nbconvert_exporter": "python",
   "pygments_lexer": "ipython3",
   "version": "3.9.6"
  }
 },
 "nbformat": 4,
 "nbformat_minor": 5
}
